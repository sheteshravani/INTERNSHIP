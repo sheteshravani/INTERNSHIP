{
  "cells": [
    {
      "cell_type": "markdown",
      "metadata": {
        "id": "view-in-github",
        "colab_type": "text"
      },
      "source": [
        "<a href=\"https://colab.research.google.com/github/sheteshravani/INTERNSHIP/blob/master/Internship_2.ipynb\" target=\"_parent\"><img src=\"https://colab.research.google.com/assets/colab-badge.svg\" alt=\"Open In Colab\"/></a>"
      ]
    },
    {
      "cell_type": "code",
      "execution_count": 2,
      "metadata": {
        "colab": {
          "base_uri": "https://localhost:8080/",
          "height": 0
        },
        "id": "7RFNnFYcCKPJ",
        "outputId": "433fa47c-6ac6-4f22-c614-74a696f169a4"
      },
      "outputs": [
        {
          "output_type": "stream",
          "name": "stdout",
          "text": [
            "Requirement already satisfied: pandas in /usr/local/lib/python3.10/dist-packages (1.5.3)\n",
            "Requirement already satisfied: python-dateutil>=2.8.1 in /usr/local/lib/python3.10/dist-packages (from pandas) (2.8.2)\n",
            "Requirement already satisfied: pytz>=2020.1 in /usr/local/lib/python3.10/dist-packages (from pandas) (2023.3.post1)\n",
            "Requirement already satisfied: numpy>=1.21.0 in /usr/local/lib/python3.10/dist-packages (from pandas) (1.23.5)\n",
            "Requirement already satisfied: six>=1.5 in /usr/local/lib/python3.10/dist-packages (from python-dateutil>=2.8.1->pandas) (1.16.0)\n"
          ]
        }
      ],
      "source": [
        "pip install pandas"
      ]
    },
    {
      "cell_type": "markdown",
      "metadata": {
        "id": "ctKmc-FEgFif"
      },
      "source": [
        "**LOADING THE DATASET **"
      ]
    },
    {
      "cell_type": "code",
      "execution_count": 3,
      "metadata": {
        "id": "NTQKL5F4jfM_"
      },
      "outputs": [],
      "source": [
        "import pandas as pd"
      ]
    },
    {
      "cell_type": "code",
      "source": [
        "from google.colab import drive\n",
        "drive.mount('/content/drive')"
      ],
      "metadata": {
        "colab": {
          "base_uri": "https://localhost:8080/",
          "height": 0
        },
        "id": "VkOF8gpoN7ue",
        "outputId": "18621477-9bbf-4009-fa92-bc995839ecbc"
      },
      "execution_count": 5,
      "outputs": [
        {
          "output_type": "stream",
          "name": "stdout",
          "text": [
            "Mounted at /content/drive\n"
          ]
        }
      ]
    },
    {
      "cell_type": "code",
      "execution_count": 29,
      "metadata": {
        "id": "qnZNepFWSOM2"
      },
      "outputs": [],
      "source": [
        "df = pd.read_csv('/content/drive/MyDrive/Internship/Data analyst Data - Data analyst Data (1).csv')"
      ]
    },
    {
      "cell_type": "markdown",
      "metadata": {
        "id": "1Gb-2MyUg80V"
      },
      "source": [
        "Basic Question 1:How many unique students are included in the dataset?\n",
        "\n",
        "We find that there are 4894 unique students. **bold text**\n"
      ]
    },
    {
      "cell_type": "code",
      "execution_count": 7,
      "metadata": {
        "colab": {
          "base_uri": "https://localhost:8080/",
          "height": 0
        },
        "id": "yJ7OVA8Zmyjl",
        "outputId": "958806fa-1211-45ec-cf5d-63ca8313848b"
      },
      "outputs": [
        {
          "output_type": "stream",
          "name": "stdout",
          "text": [
            "The number of unique students in the dataset is         First Name              Email ID\n",
            "0           ANIKET        aniket@xyz.com\n",
            "1        Dhanshree     dhanshree@xyz.com\n",
            "2           Dhiraj        dhiraj@xyz.com\n",
            "3            Pooja         pooja@xyz.com\n",
            "4           Aayush        aayush@xyz.com\n",
            "...            ...                   ...\n",
            "4889   Patel Niraj    patelniraj@xyz.com\n",
            "4890         VIDIT         vidit@xyz.com\n",
            "4891  Suryaprakash  suryaprakash@xyz.com\n",
            "4892      Saif ali       saifali@xyz.com\n",
            "4893       Lankesh       lankesh@xyz.com\n",
            "\n",
            "[4894 rows x 2 columns].\n"
          ]
        }
      ],
      "source": [
        "unique_students = df[['First Name', 'Email ID']]\n",
        "print(f'The number of unique students in the dataset is {unique_students}.')\n"
      ]
    },
    {
      "cell_type": "markdown",
      "metadata": {
        "id": "I2Npt77DhZ3O"
      },
      "source": [
        "**2.What is the average gpa of the student?**"
      ]
    },
    {
      "cell_type": "code",
      "execution_count": 8,
      "metadata": {
        "colab": {
          "base_uri": "https://localhost:8080/",
          "height": 0
        },
        "id": "zVr-s6K7oNpY",
        "outputId": "7828b8a0-ed72-4cb8-e895-486167956afb"
      },
      "outputs": [
        {
          "output_type": "stream",
          "name": "stdout",
          "text": [
            "The average GPA of the students is 8.04.\n"
          ]
        }
      ],
      "source": [
        "average_gpa = df['CGPA'].mean()\n",
        "print(f'The average GPA of the students is {average_gpa:.2f}.')\n"
      ]
    },
    {
      "cell_type": "markdown",
      "metadata": {
        "id": "5o7Kgn3yhpsy"
      },
      "source": [
        "**3.What is the distribution of students across different graduation years?**"
      ]
    },
    {
      "cell_type": "code",
      "execution_count": 9,
      "metadata": {
        "colab": {
          "base_uri": "https://localhost:8080/",
          "height": 0
        },
        "id": "d5UaxgefodOx",
        "outputId": "01d9f642-8f1d-4afd-b7a1-ad18f3b668fb"
      },
      "outputs": [
        {
          "output_type": "stream",
          "name": "stdout",
          "text": [
            "2023    1536\n",
            "2024    1511\n",
            "2025    1292\n",
            "2026     555\n",
            "Name: Year of Graduation, dtype: int64\n"
          ]
        }
      ],
      "source": [
        "graduation_year_distribution = df['Year of Graduation'].value_counts()\n",
        "print(graduation_year_distribution)\n"
      ]
    },
    {
      "cell_type": "markdown",
      "metadata": {
        "id": "qAHjhAHnhxhY"
      },
      "source": []
    },
    {
      "cell_type": "markdown",
      "metadata": {
        "id": "UdaAe3rZh9TC"
      },
      "source": [
        "**4.What is the distribution of students'experience with Python Programming?**"
      ]
    },
    {
      "cell_type": "code",
      "execution_count": 10,
      "metadata": {
        "colab": {
          "base_uri": "https://localhost:8080/",
          "height": 0
        },
        "id": "pnFG_5VSozAn",
        "outputId": "f32c16b5-a729-48ab-cb0f-deb745494e1c"
      },
      "outputs": [
        {
          "output_type": "stream",
          "name": "stdout",
          "text": [
            "5    1242\n",
            "3    1008\n",
            "8     800\n",
            "6     738\n",
            "7     640\n",
            "4     466\n",
            "Name: Experience with python (Months), dtype: int64\n"
          ]
        }
      ],
      "source": [
        "\n",
        "python_programming_distribution = df['Experience with python (Months)'].value_counts()\n",
        "print(python_programming_distribution)\n"
      ]
    },
    {
      "cell_type": "markdown",
      "metadata": {
        "id": "XR8zSjKhiHCh"
      },
      "source": [
        "**6.How does GPA vary among different colleges?(Show top five results only)**"
      ]
    },
    {
      "cell_type": "code",
      "execution_count": 11,
      "metadata": {
        "colab": {
          "base_uri": "https://localhost:8080/",
          "height": 0
        },
        "id": "Wgd2Wu5v2635",
        "outputId": "997744c7-ad06-4041-9569-203a6ef4b13c"
      },
      "outputs": [
        {
          "output_type": "stream",
          "name": "stdout",
          "text": [
            "College Name\n",
            "THAKUR INSTITUTE OF MANAGEMENT STUDIES, CAREER DEVELOPMENT & RESEARCH - [TIMSCDR]    8.585714\n",
            "St Xavier's College                                                                  8.578571\n",
            "B. K. Birla College of Arts, Science & Commerce (Autonomous), Kalyan                 8.456410\n",
            "Symbiosis Institute of Technology, Pune                                              8.303448\n",
            "AP SHAH INSTITUTE OF TECHNOLOGY                                                      8.283333\n",
            "Name: CGPA, dtype: float64\n"
          ]
        }
      ],
      "source": [
        "# Group the data by 'college' and calculate the mean GPA for each college\n",
        "college_gpa_mean = df.groupby('College Name')['CGPA'].mean()\n",
        "\n",
        "# Sort the colleges by mean GPA in descending order and take the top five\n",
        "top_five_colleges = college_gpa_mean.sort_values(ascending=False).head(5)\n",
        "\n",
        "# Display the top five colleges and their mean GPAs\n",
        "print(top_five_colleges)\n"
      ]
    },
    {
      "cell_type": "markdown",
      "metadata": {
        "id": "RahYY17Yi0wZ"
      },
      "source": [
        "**5.What is the average family income of the students?**"
      ]
    },
    {
      "cell_type": "code",
      "execution_count": 12,
      "metadata": {
        "colab": {
          "base_uri": "https://localhost:8080/",
          "height": 0
        },
        "id": "q2Cte63w9b4U",
        "outputId": "1ccf9959-2dc9-4d10-b8e6-02a92608f0da"
      },
      "outputs": [
        {
          "output_type": "stream",
          "name": "stdout",
          "text": [
            "The average family income of the students is Rs 1.68 lakh.\n"
          ]
        }
      ],
      "source": [
        "\n",
        "# Split the income range into 'min_income' and 'max_income'\n",
        "df[['min_income', 'max_income']] = df['Family Income'].str.split('-', expand=True)\n",
        "\n",
        "# Convert the income columns to numeric values, extracting the numeric part and handling 'Lakh' or 'Crore' values\n",
        "df['min_income'] = df['min_income'].str.extract(r'(\\d+\\.*\\d*)')[0].astype(float)\n",
        "df['max_income'] = df['max_income'].str.extract(r'(\\d+\\.*\\d*)')[0].astype(float)\n",
        "\n",
        "# Calculate the midpoint income\n",
        "df['midpoint_income'] = (df['min_income'] + df['max_income']) / 2\n",
        "\n",
        "# Calculate the average family income\n",
        "average_family_income = df['midpoint_income'].mean()\n",
        "print(f'The average family income of the students is Rs {average_family_income:.2f} lakh.')\n"
      ]
    },
    {
      "cell_type": "markdown",
      "metadata": {
        "id": "gjgWnsv3jGYJ"
      },
      "source": [
        "**8.What is the average gpa for students from each city?**"
      ]
    },
    {
      "cell_type": "code",
      "execution_count": 13,
      "metadata": {
        "colab": {
          "base_uri": "https://localhost:8080/",
          "height": 0
        },
        "id": "v7B1dm-i-Yly",
        "outputId": "49a986ec-e62d-4016-97ce-37b14d411502"
      },
      "outputs": [
        {
          "output_type": "stream",
          "name": "stdout",
          "text": [
            "Average GPA for students from each city:\n",
            "City\n",
            "Agartala     7.660714\n",
            "Agra         8.046429\n",
            "Ahemdabad    8.190385\n",
            "Ajmer        8.284314\n",
            "Akola        8.021429\n",
            "               ...   \n",
            "Vidisha      7.738095\n",
            "Vijaywada    7.986364\n",
            "Wardha       8.328571\n",
            "konark       8.071429\n",
            "kullu        7.878571\n",
            "Name: CGPA, Length: 177, dtype: float64\n"
          ]
        }
      ],
      "source": [
        "# Assuming your dataset is stored in a DataFrame named 'df' and the columns are named 'city' and 'GPA'\n",
        "# Replace with the actual column names in your dataset\n",
        "\n",
        "# Group the data by 'city' and calculate the mean GPA for each city\n",
        "city_gpa_mean = df.groupby('City')['CGPA'].mean()\n",
        "\n",
        "# Display the average GPA for each city\n",
        "print(\"Average GPA for students from each city:\")\n",
        "print(city_gpa_mean)\n"
      ]
    },
    {
      "cell_type": "markdown",
      "metadata": {
        "id": "N827UcngjPmB"
      },
      "source": [
        "**9.Can we identify any relatioship bretween family income and GPA?**"
      ]
    },
    {
      "cell_type": "code",
      "execution_count": 14,
      "metadata": {
        "colab": {
          "base_uri": "https://localhost:8080/",
          "height": 0
        },
        "id": "8wiZ_49Ctm0r",
        "outputId": "e8507615-c8d6-4741-b545-0063f356274e"
      },
      "outputs": [
        {
          "output_type": "stream",
          "name": "stderr",
          "text": [
            "<ipython-input-14-326f1e7799d8>:9: FutureWarning: The default value of regex will change from True to False in a future version. In addition, single character regular expressions will *not* be treated as literal strings when regex=True.\n",
            "  df['Family Income'] = df['Family Income'].str.replace(',', '').str.replace('$', '')\n"
          ]
        }
      ],
      "source": [
        "import pandas as pd\n",
        "import matplotlib.pyplot as plt\n",
        "import numpy as np\n",
        "\n",
        "# Assuming you have columns 'Family Income' and 'CGPA' in your DataFrame 'df'\n",
        "# Replace with the actual column names in your dataset\n",
        "\n",
        "# Data Cleaning and Preprocessing\n",
        "df['Family Income'] = df['Family Income'].str.replace(',', '').str.replace('$', '')\n",
        "\n",
        "# Function to convert income values with units (e.g., '50 Lakh' to 500,000)\n",
        "def convert_income_with_units(income_value):\n",
        "    parts = income_value.split()\n",
        "    if 'Lakh' in parts:\n",
        "        # Convert Lakh to numeric value\n",
        "        numeric_value = float(parts[0])\n",
        "        return numeric_value * 100000  # Convert Lakh to numeric value\n",
        "    elif 'Crore' in parts:\n",
        "        # Convert Crore to numeric value\n",
        "        numeric_value = float(parts[0])\n",
        "        return numeric_value * 10000000  # Convert Crore to numeric value\n",
        "    else:\n",
        "        return float(income_value)\n",
        "\n",
        "# Function to calculate the midpoint income for income ranges (e.g., '7-50 Lakh' to 28.5 Lakh)\n",
        "def calculate_midpoint_income(income_range):\n",
        "    if '-' in income_range:\n",
        "        min_income, max_income = map(float, income_range.split('-'))\n",
        "        midpoint\n"
      ]
    },
    {
      "cell_type": "code",
      "execution_count": 15,
      "metadata": {
        "colab": {
          "base_uri": "https://localhost:8080/",
          "height": 490
        },
        "id": "2hGZaNRAvgBL",
        "outputId": "202f0d7a-96c6-4b8f-edb3-4fad5a19e062"
      },
      "outputs": [
        {
          "output_type": "stream",
          "name": "stdout",
          "text": [
            "Correlation Coefficient: 0.02\n"
          ]
        },
        {
          "output_type": "display_data",
          "data": {
            "text/plain": [
              "<Figure size 640x480 with 1 Axes>"
            ],
            "image/png": "[encoded data removed]"
          },
          "metadata": {}
        }
      ],
      "source": [
        "import pandas as pd\n",
        "import matplotlib.pyplot as plt\n",
        "import numpy as np\n",
        "\n",
        "# Assuming you have columns 'Family Income' and 'CGPA' in your DataFrame 'df'\n",
        "# Replace with the actual column names in your dataset\n",
        "\n",
        "# Data Cleaning and Preprocessing\n",
        "df['Family Income'] = df['Family Income'].str.replace(',', '').str.replace(' Lakh', '')\n",
        "\n",
        "# Function to calculate the midpoint income for income ranges (e.g., '0-2 Lakh' to 1.0 Lakh)\n",
        "def calculate_midpoint_income(income_range):\n",
        "    min_income, max_income = map(float, income_range.split('-'))\n",
        "    midpoint_income = (min_income + max_income) / 2\n",
        "    return midpoint_income\n",
        "\n",
        "# Apply the calculate_midpoint_income function to the 'Family Income' column\n",
        "df['Family Income'] = df['Family Income'].apply(calculate_midpoint_income)\n",
        "\n",
        "# Calculate the correlation coefficient\n",
        "correlation_coefficient = df['Family Income'].corr(df['CGPA'])\n",
        "\n",
        "# Create a scatter plot\n",
        "plt.scatter(df['Family Income'], df['CGPA'], alpha=0.5)\n",
        "plt.title('Scatter Plot of Family Income vs. CGPA')\n",
        "plt.xlabel('Family Income')\n",
        "plt.ylabel('CGPA')\n",
        "\n",
        "# Print the correlation coefficient\n",
        "print(f'Correlation Coefficient: {correlation_coefficient:.2f}')\n",
        "\n",
        "# Show the plot\n",
        "plt.show()\n"
      ]
    },
    {
      "cell_type": "code",
      "execution_count": 16,
      "metadata": {
        "id": "aUhlsdpJqqqd"
      },
      "outputs": [],
      "source": [
        "import matplotlib.pyplot as plt\n",
        "import seaborn as sns"
      ]
    },
    {
      "cell_type": "markdown",
      "metadata": {
        "id": "ErC1OmxRjiJW"
      },
      "source": [
        "**MODERATE QUESTIONS:2. How does the expected salary vary based on factors like 'GPA' 'Family Income'  'Experience with python'**"
      ]
    },
    {
      "cell_type": "code",
      "execution_count": 17,
      "metadata": {
        "colab": {
          "base_uri": "https://localhost:8080/",
          "height": 407
        },
        "id": "t5uVme2YwNM8",
        "outputId": "c6df168c-dfd6-491e-92f0-5d157a43a42f"
      },
      "outputs": [
        {
          "output_type": "display_data",
          "data": {
            "text/plain": [
              "<Figure size 1200x400 with 3 Axes>"
            ],
            "image/png": "[encoded data removed]"
          },
          "metadata": {}
        }
      ],
      "source": [
        "# Create scatter plots to visualize the relationships\n",
        "plt.figure(figsize=(12, 4))\n",
        "\n",
        "# Scatter plot: GPA vs Expected Salary\n",
        "plt.subplot(131)\n",
        "sns.scatterplot(data=df, x='CGPA', y='Expected salary (Lac)')\n",
        "plt.title('GPA vs Expected Salary')\n",
        "\n",
        "# Scatter plot: Family Income vs Expected Salary\n",
        "plt.subplot(132)\n",
        "sns.scatterplot(data=df, x='Family Income', y='Expected salary (Lac)')\n",
        "plt.title('Family Income vs Expected Salary')\n",
        "\n",
        "# Scatter plot: Experience with Python vs Expected Salary\n",
        "plt.subplot(133)\n",
        "sns.scatterplot(data=df, x='Experience with python (Months)', y='Expected salary (Lac)')\n",
        "plt.title('Experience with Python vs Expected Salary')\n",
        "\n",
        "# Show the plots\n",
        "plt.tight_layout()\n",
        "plt.show()"
      ]
    },
    {
      "cell_type": "code",
      "execution_count": 18,
      "metadata": {
        "id": "RaMzrOH1uft_"
      },
      "outputs": [],
      "source": [
        "import scipy.stats as stats"
      ]
    },
    {
      "cell_type": "markdown",
      "metadata": {
        "id": "YD9y5iRwkdHU"
      },
      "source": [
        "**13.Do students in leadership positions during their college years tend to have higher GPAs or better expected salary?**"
      ]
    },
    {
      "cell_type": "code",
      "execution_count": 19,
      "metadata": {
        "colab": {
          "base_uri": "https://localhost:8080/",
          "height": 0
        },
        "id": "zNB-BWjGuMkx",
        "outputId": "2569e335-b593-4996-9a0b-729488e9b5bf"
      },
      "outputs": [
        {
          "output_type": "stream",
          "name": "stdout",
          "text": [
            "Mean GPA for Leadership: 8.04\n",
            "Mean GPA for No Leadership: 8.04\n",
            "T-test p-value: 0.9338\n",
            "There is no significant difference in GPA between the two groups.\n"
          ]
        }
      ],
      "source": [
        "# Split the dataset into two groups: Leadership and No Leadership\n",
        "leadership_group = df[df['Leadership- skills'] == 'yes']\n",
        "no_leadership_group = df[df['Leadership- skills'] == 'no']\n",
        "\n",
        "# Calculate the mean GPA for each group\n",
        "mean_gpa_leadership = leadership_group['CGPA'].mean()\n",
        "mean_gpa_no_leadership = no_leadership_group['CGPA'].mean()\n",
        "\n",
        "# Perform a t-test to compare the GPAs of the two groups\n",
        "t_stat, p_value = stats.ttest_ind(leadership_group['CGPA'], no_leadership_group['CGPA'])\n",
        "\n",
        "# Print the results\n",
        "print(f'Mean GPA for Leadership: {mean_gpa_leadership:.2f}')\n",
        "print(f'Mean GPA for No Leadership: {mean_gpa_no_leadership:.2f}')\n",
        "print(f'T-test p-value: {p_value:.4f}')\n",
        "\n",
        "# Interpret the results (check if p-value is significant)\n",
        "if p_value < 0.05:\n",
        "    print('There is a significant difference in GPA between the two groups.')\n",
        "else:\n",
        "    print('There is no significant difference in GPA between the two groups.')"
      ]
    },
    {
      "cell_type": "code",
      "execution_count": 20,
      "metadata": {
        "colab": {
          "base_uri": "https://localhost:8080/",
          "height": 0
        },
        "id": "lyUrSqRnwBYy",
        "outputId": "845fce28-a54d-4ae2-9adb-8874dc9e18d4"
      },
      "outputs": [
        {
          "output_type": "stream",
          "name": "stdout",
          "text": [
            "Mean Expected salary (Lac) for Leadership: 13.97\n",
            "Mean Expected salary (Lac) for No Leadership: 13.92\n",
            "T-test p-value: 0.7817\n",
            "There is no significant difference in GPA between the two groups.\n"
          ]
        }
      ],
      "source": [
        "# Split the dataset into two groups: Leadership and No Leadership\n",
        "leadership_group = df[df['Leadership- skills'] == 'yes']\n",
        "no_leadership_group = df[df['Leadership- skills'] == 'no']\n",
        "\n",
        "# Calculate the mean GPA for each group\n",
        "mean_gpa_leadership = leadership_group['Expected salary (Lac)'].mean()\n",
        "mean_gpa_no_leadership = no_leadership_group['Expected salary (Lac)'].mean()\n",
        "\n",
        "# Perform a t-test to compare the GPAs of the two groups\n",
        "t_stat, p_value = stats.ttest_ind(leadership_group['Expected salary (Lac)'], no_leadership_group['Expected salary (Lac)'])\n",
        "\n",
        "# Print the results\n",
        "print(f'Mean Expected salary (Lac) for Leadership: {mean_gpa_leadership:.2f}')\n",
        "print(f'Mean Expected salary (Lac) for No Leadership: {mean_gpa_no_leadership:.2f}')\n",
        "print(f'T-test p-value: {p_value:.4f}')\n",
        "\n",
        "# Interpret the results (check if p-value is significant)\n",
        "if p_value < 0.05:\n",
        "    print('There is a significant difference in GPA between the two groups.')\n",
        "else:\n",
        "    print('There is no significant difference in GPA between the two groups.')"
      ]
    },
    {
      "cell_type": "markdown",
      "metadata": {
        "id": "QzXqkNJkklWc"
      },
      "source": [
        "**14.How many students are graduating by the end of 2024?**"
      ]
    },
    {
      "cell_type": "code",
      "execution_count": 21,
      "metadata": {
        "colab": {
          "base_uri": "https://localhost:8080/",
          "height": 0
        },
        "id": "7g8myG_2wIej",
        "outputId": "f0d1baf9-d7e4-4e18-d0b6-886067435a58"
      },
      "outputs": [
        {
          "output_type": "stream",
          "name": "stdout",
          "text": [
            "Number of students graduating by the end of 2024: 3047\n"
          ]
        }
      ],
      "source": [
        "# Filter students who are expected to graduate by the end of 2024\n",
        "graduating_students_2024 = df[df['Year of Graduation'] <= 2024]\n",
        "\n",
        "# Count the number of graduating students\n",
        "num_graduating_students_2024 = len(graduating_students_2024)\n",
        "\n",
        "# Print the result\n",
        "print(f'Number of students graduating by the end of 2024: {num_graduating_students_2024}')"
      ]
    },
    {
      "cell_type": "markdown",
      "metadata": {
        "id": "UW3_jqHbkx3R"
      },
      "source": [
        "**15.Which promotion channel brings in more student participants for the event?**"
      ]
    },
    {
      "cell_type": "code",
      "execution_count": 22,
      "metadata": {
        "colab": {
          "base_uri": "https://localhost:8080/",
          "height": 0
        },
        "id": "BuRaCj0J1wjA",
        "outputId": "d90742aa-ebb5-4fe4-9850-4f72444cee4b"
      },
      "outputs": [
        {
          "output_type": "stream",
          "name": "stdout",
          "text": [
            "The promotion channel with the most participants is: Whatsapp\n"
          ]
        }
      ],
      "source": [
        "# Count the occurrences of each promotion channel\n",
        "channel_counts = df['How did you come to know about this event?'].value_counts()\n",
        "\n",
        "# Find the promotion channel with the highest count (most entries)\n",
        "most_attended_channel = channel_counts.idxmax()\n",
        "\n",
        "# Print the name of the promotion channel with the highest count\n",
        "print(f'The promotion channel with the most participants is: {most_attended_channel}')"
      ]
    },
    {
      "cell_type": "markdown",
      "metadata": {
        "id": "vLmxrEy6k1pt"
      },
      "source": [
        "**16.Find the total no. of students who attended the events related to Data Science ?(from all data science related events)**"
      ]
    },
    {
      "cell_type": "code",
      "execution_count": 23,
      "metadata": {
        "colab": {
          "base_uri": "https://localhost:8080/",
          "height": 0
        },
        "id": "9UwOz2GF2W6b",
        "outputId": "af30002e-9e46-465f-f855-2e18b4632f17"
      },
      "outputs": [
        {
          "output_type": "stream",
          "name": "stdout",
          "text": [
            "Total number of Data Science-related events: 306\n"
          ]
        }
      ],
      "source": [
        "# Define the list of Data Science-related event names\n",
        "data_science_events = ['Data Visualization using BI', 'IS DATA SCIENCE FOR YOU?']\n",
        "\n",
        "# Filter events that are related to Data Science\n",
        "data_science_events_df = df[df['Events'].isin(data_science_events)]\n",
        "\n",
        "# Count the occurrences of Data Science-related events\n",
        "total_data_science_events = len(data_science_events_df)\n",
        "\n",
        "# Print the result\n",
        "print(f'Total number of Data Science-related events: {total_data_science_events}')"
      ]
    },
    {
      "cell_type": "markdown",
      "metadata": {
        "id": "TgH7h_belIzk"
      },
      "source": [
        "**17.Those who have high CGPA, more experience with python and high salary expectation**"
      ]
    },
    {
      "cell_type": "code",
      "execution_count": 24,
      "metadata": {
        "colab": {
          "base_uri": "https://localhost:8080/",
          "height": 0
        },
        "id": "it-UA4xZ2u75",
        "outputId": "71d0dc92-d808-45f8-a212-3d72b9de009e"
      },
      "outputs": [
        {
          "output_type": "stream",
          "name": "stdout",
          "text": [
            "Unique values in the \"Experience with python (Months)\" column:\n",
            "7\n",
            "3\n",
            "4\n",
            "5\n",
            "6\n",
            "8\n"
          ]
        }
      ],
      "source": [
        "column_name = 'Experience with python (Months)'\n",
        "\n",
        "# Use the unique() method to list unique values in the specified column\n",
        "unique_values = df[column_name].unique()\n",
        "\n",
        "# Print the unique values\n",
        "print(f'Unique values in the \"{column_name}\" column:')\n",
        "for value in unique_values:\n",
        "    print(value)"
      ]
    },
    {
      "cell_type": "code",
      "execution_count": 25,
      "metadata": {
        "colab": {
          "base_uri": "https://localhost:8080/",
          "height": 0
        },
        "id": "VjwobG93B-_2",
        "outputId": "e0fb3b43-2d43-4d33-9e15-d3d6f73bd81a"
      },
      "outputs": [
        {
          "output_type": "stream",
          "name": "stdout",
          "text": [
            "Unique values in the \"CGPA\" column:\n",
            "6.7\n",
            "8.2\n",
            "6.5\n",
            "8.7\n",
            "9.1\n",
            "8.9\n",
            "7.4\n",
            "7.3\n",
            "8.6\n",
            "9.2\n",
            "7.8\n",
            "7.9\n",
            "9.9\n",
            "8.1\n",
            "9.5\n",
            "9.8\n",
            "9.6\n",
            "6.2\n",
            "7.2\n",
            "6.8\n",
            "8.4\n",
            "6.6\n",
            "8.3\n",
            "6.3\n",
            "8.5\n",
            "8.8\n",
            "7.5\n",
            "6.4\n",
            "7.6\n",
            "6.9\n",
            "9.0\n",
            "9.3\n",
            "9.4\n",
            "7.7\n",
            "7.1\n",
            "8.0\n",
            "9.7\n"
          ]
        }
      ],
      "source": [
        "# Specify the column you want to list unique values from\n",
        "column_name = 'CGPA'\n",
        "\n",
        "# Use the unique() method to list unique values in the specified column\n",
        "unique_values = df[column_name].unique()\n",
        "\n",
        "# Print the unique values\n",
        "print(f'Unique values in the \"{column_name}\" column:')\n",
        "for value in unique_values:\n",
        "    print(value)"
      ]
    },
    {
      "cell_type": "code",
      "execution_count": 26,
      "metadata": {
        "colab": {
          "base_uri": "https://localhost:8080/",
          "height": 0
        },
        "id": "TqoATXXGCF3T",
        "outputId": "51d195a0-be28-4776-c864-8b9563a88afe"
      },
      "outputs": [
        {
          "output_type": "stream",
          "name": "stdout",
          "text": [
            "Unique values in the \"Expected salary (Lac)\" column:\n",
            "6\n",
            "7\n",
            "8\n",
            "10\n",
            "11\n",
            "20\n",
            "5\n",
            "9\n",
            "21\n",
            "13\n",
            "15\n",
            "14\n",
            "16\n",
            "19\n",
            "17\n",
            "18\n",
            "23\n",
            "25\n",
            "22\n",
            "12\n",
            "24\n",
            "30\n",
            "28\n",
            "26\n",
            "29\n",
            "27\n",
            "32\n",
            "34\n",
            "31\n",
            "35\n"
          ]
        }
      ],
      "source": [
        "# Specify the column you want to list unique values from\n",
        "column_name = 'Expected salary (Lac)'\n",
        "\n",
        "# Use the unique() method to list unique values in the specified column\n",
        "unique_values = df[column_name].unique()\n",
        "\n",
        "# Print the unique values\n",
        "print(f'Unique values in the \"{column_name}\" column:')\n",
        "for value in unique_values:\n",
        "    print(value)"
      ]
    },
    {
      "cell_type": "code",
      "execution_count": 27,
      "metadata": {
        "colab": {
          "base_uri": "https://localhost:8080/",
          "height": 0
        },
        "id": "DOke5xb4B2lW",
        "outputId": "41c10d25-5ee7-4f3d-e7ee-e004ce323663"
      },
      "outputs": [
        {
          "output_type": "stream",
          "name": "stdout",
          "text": [
            "Average CGPA of students with high CGPA, high experience, and high salary expectation: 9.12\n"
          ]
        }
      ],
      "source": [
        "high_cgpa_threshold = 8.0  # Adjust as needed\n",
        "high_experience_threshold = 5  # Adjust as needed\n",
        "high_salary_threshold = 20  # Adjust as needed\n",
        "\n",
        "# Filter students who meet the criteria\n",
        "filtered_students = df[(df['CGPA'] >= high_cgpa_threshold) &\n",
        "                       (df['Experience with python (Months)'] >= high_experience_threshold) &\n",
        "                       (df['Expected salary (Lac)'] >= high_salary_threshold)]\n",
        "\n",
        "# Calculate the average CGPA of students who meet the criteria\n",
        "average_cgpa_high_experience_high_salary = filtered_students['CGPA'].mean()\n",
        "\n",
        "# Print the result\n",
        "print(f'Average CGPA of students with high CGPA, high experience, and high salary expectation: {average_cgpa_high_experience_high_salary:.2f}')"
      ]
    },
    {
      "cell_type": "markdown",
      "metadata": {
        "id": "lB5IWbJuRBm1"
      },
      "source": [
        "**18 How many students know about the event from their college?**"
      ]
    },
    {
      "cell_type": "code",
      "execution_count": 28,
      "metadata": {
        "colab": {
          "base_uri": "https://localhost:8080/",
          "height": 0
        },
        "id": "GRQa7MGHB1BD",
        "outputId": "62d4922a-397d-41ad-a338-861500f1aaac"
      },
      "outputs": [
        {
          "output_type": "stream",
          "name": "stdout",
          "text": [
            "Number of entries in 'Specify in \"Others\" (how did you come to know about this event)': 89\n"
          ]
        }
      ],
      "source": [
        "# Replace 'ColumnA' with the name of the column you want to count\n",
        "column_name = 'Specify in \"Others\" (how did you come to know about this event)'\n",
        "\n",
        "# Count the entries in the specified column\n",
        "entry_count = df[column_name].count()\n",
        "\n",
        "print(f\"Number of entries in '{column_name}': {entry_count}\")"
      ]
    },
    {
      "cell_type": "code",
      "execution_count": null,
      "metadata": {
        "id": "YoZbPSFFKgqx"
      },
      "outputs": [],
      "source": []
    }
  ],
  "metadata": {
    "colab": {
      "provenance": [],
      "include_colab_link": true
    },
    "kernelspec": {
      "display_name": "Python 3",
      "name": "python3"
    },
    "language_info": {
      "name": "python"
    }
  },
  "nbformat": 4,
  "nbformat_minor": 0
}